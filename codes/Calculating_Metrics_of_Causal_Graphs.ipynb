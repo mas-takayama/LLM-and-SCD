{
  "cells": [
    {
      "cell_type": "markdown",
      "metadata": {
        "id": "5NdB8DG3Z4bi"
      },
      "source": [
        "###Preparation of Libraries"
      ]
    },
    {
      "cell_type": "code",
      "execution_count": null,
      "metadata": {
        "id": "oWw1GzgjQAFm"
      },
      "outputs": [],
      "source": [
        "!pip install numpy==1.25.0"
      ]
    },
    {
      "cell_type": "code",
      "execution_count": null,
      "metadata": {
        "id": "i59CJeENtDV8"
      },
      "outputs": [],
      "source": [
        "!pip install openai\n",
        "!pip install lingam\n",
        "!pip install factor_analyzer\n",
        "!pip install igraph\n",
        "!pip install pygam\n",
        "!pip install causal-learn"
      ]
    },
    {
      "cell_type": "code",
      "execution_count": null,
      "metadata": {
        "colab": {
          "base_uri": "https://localhost:8080/"
        },
        "id": "QUi9yQgmKt_T",
        "outputId": "7dd99e21-3ee0-4eb2-85f0-b08a930c2704"
      },
      "outputs": [
        {
          "output_type": "stream",
          "name": "stdout",
          "text": [
            "NumPy ver: 1.25.0\n",
            "Pandas ver: 1.5.3\n",
            "Graphviz ver: 0.20.1\n",
            "LiNGAM ver: 1.8.2\n"
          ]
        }
      ],
      "source": [
        "\n",
        "import os\n",
        "import numpy as np\n",
        "import pandas as pd\n",
        "import graphviz\n",
        "import lingam\n",
        "from sklearn.preprocessing import StandardScaler\n",
        "from lingam.utils import print_causal_directions, print_dagc, make_dot, make_prior_knowledge\n",
        "import hashlib\n",
        "import matplotlib.pyplot as plt\n",
        "import seaborn as sns\n",
        "from causallearn.utils.GraphUtils import GraphUtils\n",
        "import matplotlib.image as mpimg\n",
        "import io\n",
        "from scipy.stats import norm\n",
        "from copy import deepcopy\n",
        "from itertools import combinations\n",
        "import numbers\n",
        "from sklearn.utils import check_array, resample\n",
        "from multiprocessing import Pool\n",
        "\n",
        "from causallearn.search.ConstraintBased.PC import pc\n",
        "from causallearn.utils.PCUtils.BackgroundKnowledge import BackgroundKnowledge\n",
        "from causallearn.graph.GraphNode import GraphNode\n",
        "from causallearn.search.ScoreBased.ExactSearch import bic_exact_search\n",
        "\n",
        "print(\"NumPy\",  \"ver:\", np.__version__)\n",
        "print(\"Pandas\", \"ver:\", pd.__version__)\n",
        "print(\"Graphviz\",   \"ver:\", graphviz.__version__)\n",
        "print(\"LiNGAM\", \"ver:\", lingam.__version__)\n",
        "\n",
        "np.set_printoptions(precision=3, suppress=True)\n",
        "\n",
        "np.random.seed(203)"
      ]
    },
    {
      "cell_type": "markdown",
      "metadata": {
        "id": "AdpNnTfIEDZQ"
      },
      "source": [
        "setting ground truth"
      ]
    },
    {
      "cell_type": "code",
      "execution_count": null,
      "metadata": {
        "id": "Hw4LlJCyBhUR"
      },
      "outputs": [],
      "source": [
        "GT_X_df = pd.read_csv('', header=None) #read the csv file of ground truth matrix\n",
        "GT_X = GT_X_df.to_numpy()"
      ]
    },
    {
      "cell_type": "markdown",
      "metadata": {
        "id": "4hEsaKYnIjHk"
      },
      "source": [
        "functions for metrics calcuation"
      ]
    },
    {
      "cell_type": "code",
      "execution_count": null,
      "metadata": {
        "id": "dYGKUjkKIRjr"
      },
      "outputs": [],
      "source": [
        "def create_0or1_causal_matrix(adjacency_matrix):\n",
        "    num_nodes = adjacency_matrix.shape[0]\n",
        "    causal_0or1_matrix = np.empty(adjacency_matrix.shape, dtype = object)\n",
        "\n",
        "    for i in range(num_nodes):\n",
        "        for j in range(num_nodes):\n",
        "            if adjacency_matrix[i, j] == 0:\n",
        "                causal_0or1_matrix[i, j] = 0\n",
        "            else:\n",
        "                causal_0or1_matrix[i, j] = 1\n",
        "\n",
        "    return causal_0or1_matrix\n",
        "\n",
        "#SHD\n",
        "def calc_SHD(True_matrix, adjacency_matrix):\n",
        "    num_nodes = adjacency_matrix.shape[0]\n",
        "    adjacency_matrix_0or1 = create_0or1_causal_matrix(adjacency_matrix)\n",
        "    A = 0 # total number of edge additions\n",
        "    for i in range(num_nodes):\n",
        "        for j in range(num_nodes):\n",
        "            if True_matrix[i, j]==0 and True_matrix[j, i]==0 and adjacency_matrix_0or1[i, j] == 1:\n",
        "                A = A + 1\n",
        "            else:\n",
        "                continue\n",
        "\n",
        "    D = 0 # total number of edge deletions\n",
        "    for i in range(num_nodes):\n",
        "        for j in range(num_nodes):\n",
        "            if adjacency_matrix_0or1[i, j]==0 and adjacency_matrix_0or1[j, i]==0 and True_matrix[i, j] == 1:\n",
        "                D = D + 1\n",
        "            else:\n",
        "                continue\n",
        "\n",
        "    R = 0 # total number of edge reversals\n",
        "    for i in range(num_nodes):\n",
        "        for j in range(num_nodes):\n",
        "            if adjacency_matrix_0or1[i, j]==0 and adjacency_matrix_0or1[j, i]==1 and True_matrix[i, j] == 1 and True_matrix[j, i] == 0:\n",
        "                R = R + 1\n",
        "            else:\n",
        "                continue\n",
        "    return A + D + R\n",
        "\n",
        "#False Positive Rate\n",
        "def calc_FPR(True_matrix, adjacency_matrix):\n",
        "    num_nodes = adjacency_matrix.shape[0]\n",
        "    adjacency_matrix_0or1 = create_0or1_causal_matrix(adjacency_matrix)\n",
        "    TN = 0 # total number of true negative\n",
        "    for i in range(num_nodes):\n",
        "        for j in range(num_nodes):\n",
        "            if True_matrix[i, j]==0 and adjacency_matrix_0or1[i, j] == 0:\n",
        "                TN = TN + 1\n",
        "            else:\n",
        "                continue\n",
        "\n",
        "    FP = 0 # total number of false positive\n",
        "    for i in range(num_nodes):\n",
        "        for j in range(num_nodes):\n",
        "            if adjacency_matrix_0or1[i, j]==1 and True_matrix[i, j] == 0:\n",
        "                FP = FP + 1\n",
        "            else:\n",
        "                continue\n",
        "\n",
        "    return FP/(TN+FP)\n",
        "\n",
        "#False Negative Rate\n",
        "def calc_FNR(True_matrix, adjacency_matrix):\n",
        "    num_nodes = adjacency_matrix.shape[0]\n",
        "    adjacency_matrix_0or1 = create_0or1_causal_matrix(adjacency_matrix)\n",
        "    TP = 0 # total number of true positive\n",
        "    for i in range(num_nodes):\n",
        "        for j in range(num_nodes):\n",
        "            if True_matrix[i, j]==1 and adjacency_matrix_0or1[i, j] == 1:\n",
        "                TP = TP + 1\n",
        "            else:\n",
        "                continue\n",
        "\n",
        "    FN = 0 # total number of false negative\n",
        "    for i in range(num_nodes):\n",
        "        for j in range(num_nodes):\n",
        "            if adjacency_matrix_0or1[i, j]==0 and True_matrix[i, j] == 1:\n",
        "                FN = FN + 1\n",
        "            else:\n",
        "                continue\n",
        "\n",
        "    return FN/(TP+FN)\n",
        "\n",
        "#Precision\n",
        "def calc_precision(True_matrix, adjacency_matrix):\n",
        "    num_nodes = adjacency_matrix.shape[0]\n",
        "    adjacency_matrix_0or1 = create_0or1_causal_matrix(adjacency_matrix)\n",
        "    TP = 0 # total number of true positive\n",
        "    for i in range(num_nodes):\n",
        "        for j in range(num_nodes):\n",
        "            if True_matrix[i, j]==1 and adjacency_matrix_0or1[i, j] == 1:\n",
        "                TP = TP + 1\n",
        "            else:\n",
        "                continue\n",
        "\n",
        "    FP = 0 # total number of false positive\n",
        "    for i in range(num_nodes):\n",
        "        for j in range(num_nodes):\n",
        "            if adjacency_matrix_0or1[i, j]==1 and True_matrix[i, j] == 0:\n",
        "                FP = FP + 1\n",
        "            else:\n",
        "                continue\n",
        "\n",
        "    return TP/(TP+FP)\n",
        "\n",
        "#F1 score\n",
        "def calc_F1score(True_matrix, adjacency_matrix):\n",
        "    num_nodes = adjacency_matrix.shape[0]\n",
        "    adjacency_matrix_0or1 = create_0or1_causal_matrix(adjacency_matrix)\n",
        "    TP = 0 # total number of true positive\n",
        "    for i in range(num_nodes):\n",
        "        for j in range(num_nodes):\n",
        "            if True_matrix[i, j]==1 and adjacency_matrix_0or1[i, j] == 1:\n",
        "                TP = TP + 1\n",
        "            else:\n",
        "                continue\n",
        "\n",
        "    FP = 0 # total number of false positive\n",
        "    for i in range(num_nodes):\n",
        "        for j in range(num_nodes):\n",
        "            if adjacency_matrix_0or1[i, j]==1 and True_matrix[i, j] == 0:\n",
        "                FP = FP + 1\n",
        "            else:\n",
        "                continue\n",
        "\n",
        "    FN = 0 # total number of false negative\n",
        "    for i in range(num_nodes):\n",
        "        for j in range(num_nodes):\n",
        "            if adjacency_matrix_0or1[i, j]==0 and True_matrix[i, j] == 1:\n",
        "                FN = FN + 1\n",
        "            else:\n",
        "                continue\n",
        "\n",
        "    return 2*TP/(2*TP+FN+FP)"
      ]
    }
  ],
  "metadata": {
    "colab": {
      "provenance": []
    },
    "kernelspec": {
      "display_name": "Python 3",
      "name": "python3"
    },
    "language_info": {
      "name": "python"
    }
  },
  "nbformat": 4,
  "nbformat_minor": 0
}